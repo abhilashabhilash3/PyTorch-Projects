{
 "cells": [
  {
   "cell_type": "markdown",
   "metadata": {},
   "source": [
    "# Generative Adversarial Network\n",
    "\n",
    "In this notebook, we'll be building a generative adversarial network (GAN) trained on the MNIST dataset. From this, we'll be able to generate new handwritten digits!\n",
    "\n",
    "GANs were [first reported on](https://arxiv.org/abs/1406.2661) in 2014 from Ian Goodfellow and others in Yoshua Bengio's lab. Since then, GANs have exploded in popularity. Here are a few examples to check out:\n",
    "\n",
    "* [Pix2Pix](https://affinelayer.com/pixsrv/) \n",
    "* [CycleGAN & Pix2Pix in PyTorch, Jun-Yan Zhu](https://github.com/junyanz/pytorch-CycleGAN-and-pix2pix)\n",
    "* [A list of generative models](https://github.com/wiseodd/generative-models)\n",
    "\n",
    "The idea behind GANs is that you have two networks, a generator $G$ and a discriminator $D$, competing against each other. The generator makes \"fake\" data to pass to the discriminator. The discriminator also sees real training data and predicts if the data it's received is real or fake. \n",
    "> * The generator is trained to fool the discriminator, it wants to output data that looks _as close as possible_ to real, training data. \n",
    "* The discriminator is a classifier that is trained to figure out which data is real and which is fake. \n",
    "\n",
    "What ends up happening is that the generator learns to make data that is indistinguishable from real data to the discriminator.\n",
    "\n",
    "<img src='assets/gan_pipeline.png' width=70% />\n",
    "\n",
    "The general structure of a GAN is shown in the diagram above, using MNIST images as data. The latent sample is a random vector that the generator uses to construct its fake images. This is often called a **latent vector** and that vector space is called **latent space**. As the generator trains, it figures out how to map latent vectors to recognizable images that can fool the discriminator.\n",
    "\n",
    "If you're interested in generating only new images, you can throw out the discriminator after training. In this notebook, I'll show you how to define and train these adversarial networks in PyTorch and generate new images!"
   ]
  },
  {
   "cell_type": "code",
   "execution_count": 1,
   "metadata": {
    "collapsed": true
   },
   "outputs": [],
   "source": [
    "%matplotlib inline\n",
    "\n",
    "import numpy as np\n",
    "import torch\n",
    "import matplotlib.pyplot as plt"
   ]
  },
  {
   "cell_type": "code",
   "execution_count": 2,
   "metadata": {
    "collapsed": true
   },
   "outputs": [],
   "source": [
    "from torchvision import datasets\n",
    "import torchvision.transforms as transforms\n",
    "\n",
    "# how many samples per batch to load\n",
    "batch_size = 64\n",
    "\n",
    "# convert data to torch.FloatTensor\n",
    "transform = transforms.ToTensor()\n",
    "\n",
    "# get the training datasets\n",
    "train_data = datasets.MNIST(root='data', train=True, download=True, transform=transform)\n",
    "\n",
    "# prepare data loader\n",
    "train_loader = torch.utils.data.DataLoader(train_data, batch_size=batch_size)"
   ]
  },
  {
   "cell_type": "markdown",
   "metadata": {},
   "source": [
    "### Visualize the data"
   ]
  },
  {
   "cell_type": "code",
   "execution_count": 3,
   "metadata": {},
   "outputs": [
    {
     "data": {
      "text/plain": [
       "<matplotlib.image.AxesImage at 0x10bab29e8>"
      ]
     },
     "execution_count": 3,
     "metadata": {},
     "output_type": "execute_result"
    },
    {
     "data": {
      "image/png": "[encoded data removed]",
      "text/plain": [
       "<Figure size 216x216 with 1 Axes>"
      ]
     },
     "metadata": {},
     "output_type": "display_data"
    }
   ],
   "source": [
    "# obtain one batch of training images\n",
    "dataiter = iter(train_loader)\n",
    "images, labels = dataiter.next()\n",
    "images = images.numpy()\n",
    "\n",
    "# get one image from the batch\n",
    "img = np.squeeze(images[0])\n",
    "\n",
    "fig = plt.figure(figsize = (3,3)) \n",
    "ax = fig.add_subplot(111)\n",
    "ax.imshow(img, cmap='gray')"
   ]
  },
  {
   "cell_type": "markdown",
   "metadata": {},
   "source": [
    "---\n",
    "# Define the Model\n",
    "\n",
    "A GAN is comprised of two adversarial networks, a discriminator and a generator."
   ]
  },
  {
   "cell_type": "markdown",
   "metadata": {},
   "source": [
    "## Discriminator"
   ]
  },
  {
   "cell_type": "code",
   "execution_count": 4,
   "metadata": {
    "collapsed": true
   },
   "outputs": [],
   "source": [
    "import torch.nn as nn\n",
    "import torch.nn.functional as F\n",
    "\n",
    "class Discriminator(nn.Module):\n",
    "\n",
    "    def __init__(self, input_size, hidden_dim, output_size):\n",
    "        super(Discriminator, self).__init__()\n",
    "        \n",
    "        # hidden linear layers\n",
    "        self.fc1 = nn.Linear(input_size, hidden_dim*4)\n",
    "        self.fc2 = nn.Linear(hidden_dim*4, hidden_dim*2)\n",
    "        self.fc3 = nn.Linear(hidden_dim*2, hidden_dim)\n",
    "        \n",
    "        # fully-connected layer\n",
    "        self.fc4 = nn.Linear(hidden_dim, output_size)\n",
    "        \n",
    "        # dropout layer \n",
    "        self.dropout = nn.Dropout(0.3)\n",
    "        \n",
    "        \n",
    "    def forward(self, x):\n",
    "        # flatten image\n",
    "        x = x.view(-1, 28*28)\n",
    "        x = F.leaky_relu(self.fc1(x), 0.2) # (input, negative_slope=0.2)\n",
    "        x = self.dropout(x)\n",
    "        x = F.leaky_relu(self.fc2(x), 0.2)\n",
    "        x = self.dropout(x)\n",
    "        x = F.leaky_relu(self.fc3(x), 0.2)\n",
    "        x = self.dropout(x)\n",
    "        out = self.fc4(x)\n",
    "\n",
    "        return out\n"
   ]
  },
  {
   "cell_type": "markdown",
   "metadata": {},
   "source": [
    "## Generator\n",
    "\n",
    "The generator network will be almost exactly the same as the discriminator network, except that we're applying a [tanh activation function](https://pytorch.org/docs/stable/nn.html#tanh) to our output layer.\n",
    "\n",
    "#### tanh Output\n",
    "The generator has been found to perform the best with $tanh$ for the generator output, which scales the output to be between -1 and 1, instead of 0 and 1. \n",
    "\n",
    "<img src='assets/tanh_fn.png' width=40% />\n",
    "\n",
    "Recall that we also want these outputs to be comparable to the *real* input pixel values, which are read in as normalized values between 0 and 1. \n",
    "> So, we'll also have to **scale our real input images to have pixel values between -1 and 1** when we train the discriminator. \n",
    "\n",
    "I'll do this in the training loop, later on."
   ]
  },
  {
   "cell_type": "code",
   "execution_count": 5,
   "metadata": {
    "collapsed": true
   },
   "outputs": [],
   "source": [
    "class Generator(nn.Module):\n",
    "\n",
    "    def __init__(self, input_size, hidden_dim, output_size):\n",
    "        super(Generator, self).__init__()\n",
    "        \n",
    "        # define hidden linear layers\n",
    "        self.fc1 = nn.Linear(input_size, hidden_dim)\n",
    "        self.fc2 = nn.Linear(hidden_dim, hidden_dim*2)\n",
    "        self.fc3 = nn.Linear(hidden_dim*2, hidden_dim*4)\n",
    "        \n",
    "        # final fully-connected layer\n",
    "        self.fc4 = nn.Linear(hidden_dim*4, output_size)\n",
    "        \n",
    "        # dropout layer \n",
    "        self.dropout = nn.Dropout(0.3)\n",
    "\n",
    "    def forward(self, x):\n",
    "        # all hidden layers\n",
    "        x = F.leaky_relu(self.fc1(x), 0.2) # (input, negative_slope=0.2)\n",
    "        x = self.dropout(x)\n",
    "        x = F.leaky_relu(self.fc2(x), 0.2)\n",
    "        x = self.dropout(x)\n",
    "        x = F.leaky_relu(self.fc3(x), 0.2)\n",
    "        x = self.dropout(x)\n",
    "        out = F.tanh(self.fc4(x))\n",
    "\n",
    "        return out"
   ]
  },
  {
   "cell_type": "markdown",
   "metadata": {},
   "source": [
    "## Model hyperparameters"
   ]
  },
  {
   "cell_type": "code",
   "execution_count": 6,
   "metadata": {
    "collapsed": true
   },
   "outputs": [],
   "source": [
    "# Discriminator hyperparameters\n",
    "\n",
    "# Size of input image to discriminator (28*28)\n",
    "input_size = 784\n",
    "# Size of discriminator output\n",
    "d_output_size = 1\n",
    "# Size of last hidden layer in the discriminator\n",
    "d_hidden_size = 32\n",
    "\n",
    "# Generator hyperparameters\n",
    "\n",
    "# Size of latent vector to give to generator\n",
    "z_size = 100\n",
    "# Size of discriminator output (generated image)\n",
    "g_output_size = 784\n",
    "# Size of first hidden layer in the generator\n",
    "g_hidden_size = 32"
   ]
  },
  {
   "cell_type": "markdown",
   "metadata": {},
   "source": [
    "## Complete network"
   ]
  },
  {
   "cell_type": "code",
   "execution_count": 7,
   "metadata": {},
   "outputs": [
    {
     "name": "stdout",
     "output_type": "stream",
     "text": [
      "Discriminator(\n",
      "  (fc1): Linear(in_features=784, out_features=128, bias=True)\n",
      "  (fc2): Linear(in_features=128, out_features=64, bias=True)\n",
      "  (fc3): Linear(in_features=64, out_features=32, bias=True)\n",
      "  (fc4): Linear(in_features=32, out_features=1, bias=True)\n",
      "  (dropout): Dropout(p=0.3)\n",
      ")\n",
      "\n",
      "Generator(\n",
      "  (fc1): Linear(in_features=100, out_features=32, bias=True)\n",
      "  (fc2): Linear(in_features=32, out_features=64, bias=True)\n",
      "  (fc3): Linear(in_features=64, out_features=128, bias=True)\n",
      "  (fc4): Linear(in_features=128, out_features=784, bias=True)\n",
      "  (dropout): Dropout(p=0.3)\n",
      ")\n"
     ]
    }
   ],
   "source": [
    "# instantiate discriminator and generator\n",
    "D = Discriminator(input_size, d_hidden_size, d_output_size)\n",
    "G = Generator(z_size, g_hidden_size, g_output_size)\n",
    "\n",
    "# checking\n",
    "print(D)\n",
    "print()\n",
    "print(G)"
   ]
  },
  {
   "cell_type": "markdown",
   "metadata": {},
   "source": [
    "---\n",
    "## Discriminator and Generator Losses"
   ]
  },
  {
   "cell_type": "code",
   "execution_count": 8,
   "metadata": {
    "collapsed": true
   },
   "outputs": [],
   "source": [
    "# Calculate losses\n",
    "def real_loss(D_out, smooth=False):\n",
    "    batch_size = D_out.size(0)\n",
    "    # label smoothing\n",
    "    if smooth:\n",
    "        # smooth, real labels = 0.9\n",
    "        labels = torch.ones(batch_size)*0.9\n",
    "    else:\n",
    "        labels = torch.ones(batch_size) # real labels = 1\n",
    "        \n",
    "    # numerically stable loss\n",
    "    criterion = nn.BCEWithLogitsLoss()\n",
    "    # calculate loss\n",
    "    loss = criterion(D_out.squeeze(), labels)\n",
    "    return loss\n",
    "\n",
    "def fake_loss(D_out):\n",
    "    batch_size = D_out.size(0)\n",
    "    labels = torch.zeros(batch_size) # fake labels = 0\n",
    "    criterion = nn.BCEWithLogitsLoss()\n",
    "    # calculate loss\n",
    "    loss = criterion(D_out.squeeze(), labels)\n",
    "    return loss"
   ]
  },
  {
   "cell_type": "markdown",
   "metadata": {},
   "source": [
    "## Optimizers\n",
    "\n",
    "Two separate Adam optimizers for generator and discrimininator"
   ]
  },
  {
   "cell_type": "code",
   "execution_count": 9,
   "metadata": {
    "collapsed": true,
    "scrolled": true
   },
   "outputs": [],
   "source": [
    "import torch.optim as optim\n",
    "\n",
    "# Optimizers\n",
    "lr = 0.002\n",
    "\n",
    "# Create optimizers for the discriminator and generator\n",
    "d_optimizer = optim.Adam(D.parameters(), lr)\n",
    "g_optimizer = optim.Adam(G.parameters(), lr)"
   ]
  },
  {
   "cell_type": "markdown",
   "metadata": {},
   "source": [
    "\n",
    "## Training\n"
   ]
  },
  {
   "cell_type": "code",
   "execution_count": 10,
   "metadata": {
    "scrolled": true
   },
   "outputs": [
    {
     "name": "stdout",
     "output_type": "stream",
     "text": [
      "Epoch [    1/  100] | d_loss: 1.3830 | g_loss: 0.6883\n",
      "Epoch [    1/  100] | d_loss: 0.7668 | g_loss: 3.1404\n",
      "Epoch [    1/  100] | d_loss: 1.0908 | g_loss: 2.6393\n",
      "Epoch [    2/  100] | d_loss: 1.2982 | g_loss: 1.1008\n",
      "Epoch [    2/  100] | d_loss: 1.1753 | g_loss: 1.1042\n",
      "Epoch [    2/  100] | d_loss: 1.0874 | g_loss: 1.6588\n",
      "Epoch [    3/  100] | d_loss: 0.9747 | g_loss: 2.9083\n",
      "Epoch [    3/  100] | d_loss: 1.0724 | g_loss: 1.1101\n",
      "Epoch [    3/  100] | d_loss: 1.4727 | g_loss: 0.4990\n",
      "Epoch [    4/  100] | d_loss: 1.1590 | g_loss: 0.9996\n",
      "Epoch [    4/  100] | d_loss: 1.1832 | g_loss: 1.0638\n",
      "Epoch [    4/  100] | d_loss: 1.1652 | g_loss: 1.1463\n",
      "Epoch [    5/  100] | d_loss: 1.2966 | g_loss: 1.0950\n",
      "Epoch [    5/  100] | d_loss: 1.3616 | g_loss: 1.0312\n",
      "Epoch [    5/  100] | d_loss: 1.2202 | g_loss: 1.1301\n",
      "Epoch [    6/  100] | d_loss: 1.1609 | g_loss: 1.5148\n",
      "Epoch [    6/  100] | d_loss: 1.1100 | g_loss: 1.2183\n",
      "Epoch [    6/  100] | d_loss: 1.2376 | g_loss: 1.5296\n",
      "Epoch [    7/  100] | d_loss: 1.2304 | g_loss: 1.1526\n",
      "Epoch [    7/  100] | d_loss: 1.1684 | g_loss: 1.1339\n",
      "Epoch [    7/  100] | d_loss: 1.0965 | g_loss: 1.3531\n",
      "Epoch [    8/  100] | d_loss: 1.2527 | g_loss: 2.2266\n",
      "Epoch [    8/  100] | d_loss: 1.2978 | g_loss: 1.6185\n",
      "Epoch [    8/  100] | d_loss: 1.1493 | g_loss: 1.4873\n",
      "Epoch [    9/  100] | d_loss: 0.9751 | g_loss: 2.6848\n",
      "Epoch [    9/  100] | d_loss: 1.1574 | g_loss: 1.7639\n",
      "Epoch [    9/  100] | d_loss: 0.9629 | g_loss: 2.2062\n",
      "Epoch [   10/  100] | d_loss: 1.0279 | g_loss: 1.9386\n",
      "Epoch [   10/  100] | d_loss: 1.1110 | g_loss: 1.0685\n",
      "Epoch [   10/  100] | d_loss: 1.3441 | g_loss: 1.0324\n",
      "Epoch [   11/  100] | d_loss: 1.1879 | g_loss: 1.0673\n",
      "Epoch [   11/  100] | d_loss: 1.3366 | g_loss: 0.9610\n",
      "Epoch [   11/  100] | d_loss: 1.1435 | g_loss: 1.0668\n",
      "Epoch [   12/  100] | d_loss: 1.1189 | g_loss: 1.2501\n",
      "Epoch [   12/  100] | d_loss: 1.2153 | g_loss: 1.0666\n",
      "Epoch [   12/  100] | d_loss: 1.3179 | g_loss: 0.9101\n",
      "Epoch [   13/  100] | d_loss: 1.1504 | g_loss: 1.4559\n",
      "Epoch [   13/  100] | d_loss: 1.3358 | g_loss: 0.9763\n",
      "Epoch [   13/  100] | d_loss: 1.1833 | g_loss: 1.0180\n",
      "Epoch [   14/  100] | d_loss: 1.1839 | g_loss: 1.2705\n",
      "Epoch [   14/  100] | d_loss: 1.3219 | g_loss: 1.0915\n",
      "Epoch [   14/  100] | d_loss: 1.2945 | g_loss: 0.9335\n",
      "Epoch [   15/  100] | d_loss: 1.3458 | g_loss: 0.9600\n",
      "Epoch [   15/  100] | d_loss: 1.3445 | g_loss: 0.9098\n",
      "Epoch [   15/  100] | d_loss: 1.3289 | g_loss: 1.3456\n",
      "Epoch [   16/  100] | d_loss: 1.2725 | g_loss: 0.9085\n",
      "Epoch [   16/  100] | d_loss: 1.1133 | g_loss: 1.0910\n",
      "Epoch [   16/  100] | d_loss: 1.2564 | g_loss: 1.0233\n",
      "Epoch [   17/  100] | d_loss: 1.3171 | g_loss: 0.9643\n",
      "Epoch [   17/  100] | d_loss: 1.2932 | g_loss: 1.0311\n",
      "Epoch [   17/  100] | d_loss: 1.2643 | g_loss: 0.9377\n",
      "Epoch [   18/  100] | d_loss: 1.2226 | g_loss: 1.4327\n",
      "Epoch [   18/  100] | d_loss: 1.3909 | g_loss: 0.9178\n",
      "Epoch [   18/  100] | d_loss: 1.2430 | g_loss: 1.0297\n",
      "Epoch [   19/  100] | d_loss: 1.3409 | g_loss: 1.1413\n",
      "Epoch [   19/  100] | d_loss: 1.1607 | g_loss: 1.2019\n",
      "Epoch [   19/  100] | d_loss: 1.4060 | g_loss: 1.1366\n",
      "Epoch [   20/  100] | d_loss: 1.3076 | g_loss: 1.0200\n",
      "Epoch [   20/  100] | d_loss: 1.2715 | g_loss: 0.9261\n",
      "Epoch [   20/  100] | d_loss: 1.2959 | g_loss: 1.4079\n",
      "Epoch [   21/  100] | d_loss: 1.2529 | g_loss: 1.4324\n",
      "Epoch [   21/  100] | d_loss: 1.2907 | g_loss: 0.9551\n",
      "Epoch [   21/  100] | d_loss: 1.2426 | g_loss: 1.2571\n",
      "Epoch [   22/  100] | d_loss: 1.2168 | g_loss: 1.7557\n",
      "Epoch [   22/  100] | d_loss: 1.2874 | g_loss: 1.0733\n",
      "Epoch [   22/  100] | d_loss: 1.1758 | g_loss: 1.6449\n",
      "Epoch [   23/  100] | d_loss: 1.3328 | g_loss: 0.9859\n",
      "Epoch [   23/  100] | d_loss: 1.4189 | g_loss: 0.8197\n",
      "Epoch [   23/  100] | d_loss: 1.3146 | g_loss: 0.9181\n",
      "Epoch [   24/  100] | d_loss: 1.2752 | g_loss: 1.1507\n",
      "Epoch [   24/  100] | d_loss: 1.1860 | g_loss: 1.0389\n",
      "Epoch [   24/  100] | d_loss: 1.2692 | g_loss: 1.0240\n",
      "Epoch [   25/  100] | d_loss: 1.2905 | g_loss: 0.8767\n",
      "Epoch [   25/  100] | d_loss: 1.1643 | g_loss: 1.0650\n",
      "Epoch [   25/  100] | d_loss: 1.3141 | g_loss: 0.8904\n",
      "Epoch [   26/  100] | d_loss: 1.2288 | g_loss: 1.0190\n",
      "Epoch [   26/  100] | d_loss: 1.2016 | g_loss: 0.9930\n",
      "Epoch [   26/  100] | d_loss: 1.4220 | g_loss: 1.1657\n",
      "Epoch [   27/  100] | d_loss: 1.2774 | g_loss: 1.0464\n",
      "Epoch [   27/  100] | d_loss: 1.2179 | g_loss: 1.0301\n",
      "Epoch [   27/  100] | d_loss: 1.2938 | g_loss: 1.1045\n",
      "Epoch [   28/  100] | d_loss: 1.2736 | g_loss: 1.1921\n",
      "Epoch [   28/  100] | d_loss: 1.1929 | g_loss: 1.1512\n",
      "Epoch [   28/  100] | d_loss: 1.3188 | g_loss: 0.9897\n",
      "Epoch [   29/  100] | d_loss: 1.3085 | g_loss: 1.4660\n",
      "Epoch [   29/  100] | d_loss: 1.2663 | g_loss: 0.9120\n",
      "Epoch [   29/  100] | d_loss: 1.3005 | g_loss: 0.9635\n",
      "Epoch [   30/  100] | d_loss: 1.2953 | g_loss: 0.8053\n",
      "Epoch [   30/  100] | d_loss: 1.3288 | g_loss: 0.9908\n",
      "Epoch [   30/  100] | d_loss: 1.3487 | g_loss: 1.1090\n",
      "Epoch [   31/  100] | d_loss: 1.2638 | g_loss: 1.0738\n",
      "Epoch [   31/  100] | d_loss: 1.2856 | g_loss: 0.9346\n",
      "Epoch [   31/  100] | d_loss: 1.2525 | g_loss: 1.1265\n",
      "Epoch [   32/  100] | d_loss: 1.1938 | g_loss: 1.1639\n",
      "Epoch [   32/  100] | d_loss: 1.2217 | g_loss: 0.9636\n",
      "Epoch [   32/  100] | d_loss: 1.2105 | g_loss: 1.7308\n",
      "Epoch [   33/  100] | d_loss: 1.1531 | g_loss: 1.5628\n",
      "Epoch [   33/  100] | d_loss: 1.3260 | g_loss: 0.9161\n",
      "Epoch [   33/  100] | d_loss: 1.2334 | g_loss: 0.9264\n",
      "Epoch [   34/  100] | d_loss: 1.2336 | g_loss: 1.0195\n",
      "Epoch [   34/  100] | d_loss: 1.2184 | g_loss: 1.3364\n",
      "Epoch [   34/  100] | d_loss: 1.3039 | g_loss: 0.9413\n",
      "Epoch [   35/  100] | d_loss: 1.3298 | g_loss: 1.1236\n",
      "Epoch [   35/  100] | d_loss: 1.2562 | g_loss: 1.0155\n",
      "Epoch [   35/  100] | d_loss: 1.3659 | g_loss: 1.2384\n",
      "Epoch [   36/  100] | d_loss: 1.1759 | g_loss: 1.0545\n",
      "Epoch [   36/  100] | d_loss: 1.2195 | g_loss: 1.0489\n",
      "Epoch [   36/  100] | d_loss: 1.2799 | g_loss: 0.9530\n",
      "Epoch [   37/  100] | d_loss: 1.2149 | g_loss: 1.0076\n",
      "Epoch [   37/  100] | d_loss: 1.2700 | g_loss: 1.1004\n",
      "Epoch [   37/  100] | d_loss: 1.3090 | g_loss: 0.9861\n",
      "Epoch [   38/  100] | d_loss: 1.3035 | g_loss: 1.0189\n",
      "Epoch [   38/  100] | d_loss: 1.2769 | g_loss: 1.0285\n",
      "Epoch [   38/  100] | d_loss: 1.2371 | g_loss: 1.2829\n",
      "Epoch [   39/  100] | d_loss: 1.2404 | g_loss: 1.0135\n",
      "Epoch [   39/  100] | d_loss: 1.2708 | g_loss: 0.9378\n",
      "Epoch [   39/  100] | d_loss: 1.2512 | g_loss: 0.9949\n",
      "Epoch [   40/  100] | d_loss: 1.1768 | g_loss: 0.9511\n",
      "Epoch [   40/  100] | d_loss: 1.3067 | g_loss: 0.9223\n",
      "Epoch [   40/  100] | d_loss: 1.3625 | g_loss: 0.8471\n",
      "Epoch [   41/  100] | d_loss: 1.2816 | g_loss: 1.0424\n",
      "Epoch [   41/  100] | d_loss: 1.2974 | g_loss: 1.1541\n",
      "Epoch [   41/  100] | d_loss: 1.1643 | g_loss: 1.2687\n",
      "Epoch [   42/  100] | d_loss: 1.2976 | g_loss: 1.0265\n",
      "Epoch [   42/  100] | d_loss: 1.3245 | g_loss: 1.1694\n",
      "Epoch [   42/  100] | d_loss: 1.3458 | g_loss: 0.9364\n",
      "Epoch [   43/  100] | d_loss: 1.1641 | g_loss: 1.6862\n",
      "Epoch [   43/  100] | d_loss: 1.2706 | g_loss: 0.8405\n",
      "Epoch [   43/  100] | d_loss: 1.3763 | g_loss: 0.9720\n",
      "Epoch [   44/  100] | d_loss: 1.3490 | g_loss: 1.1244\n",
      "Epoch [   44/  100] | d_loss: 1.2542 | g_loss: 1.3335\n",
      "Epoch [   44/  100] | d_loss: 1.2833 | g_loss: 0.9767\n",
      "Epoch [   45/  100] | d_loss: 1.3130 | g_loss: 0.9182\n",
      "Epoch [   45/  100] | d_loss: 1.2353 | g_loss: 1.0782\n",
      "Epoch [   45/  100] | d_loss: 1.3760 | g_loss: 0.9803\n",
      "Epoch [   46/  100] | d_loss: 1.4026 | g_loss: 0.9744\n",
      "Epoch [   46/  100] | d_loss: 1.3152 | g_loss: 0.9312\n",
      "Epoch [   46/  100] | d_loss: 1.2657 | g_loss: 1.0664\n",
      "Epoch [   47/  100] | d_loss: 1.2507 | g_loss: 1.2632\n",
      "Epoch [   47/  100] | d_loss: 1.2343 | g_loss: 1.0100\n",
      "Epoch [   47/  100] | d_loss: 1.2856 | g_loss: 0.9613\n",
      "Epoch [   48/  100] | d_loss: 1.2589 | g_loss: 1.0631\n",
      "Epoch [   48/  100] | d_loss: 1.2255 | g_loss: 1.3015\n",
      "Epoch [   48/  100] | d_loss: 1.3112 | g_loss: 0.8649\n",
      "Epoch [   49/  100] | d_loss: 1.2646 | g_loss: 0.9986\n",
      "Epoch [   49/  100] | d_loss: 1.2757 | g_loss: 0.9732\n",
      "Epoch [   49/  100] | d_loss: 1.1808 | g_loss: 1.4561\n",
      "Epoch [   50/  100] | d_loss: 1.3849 | g_loss: 1.2169\n",
      "Epoch [   50/  100] | d_loss: 1.2799 | g_loss: 1.4074\n",
      "Epoch [   50/  100] | d_loss: 1.3711 | g_loss: 0.9860\n",
      "Epoch [   51/  100] | d_loss: 1.2772 | g_loss: 1.2343\n",
      "Epoch [   51/  100] | d_loss: 1.3022 | g_loss: 0.9042\n",
      "Epoch [   51/  100] | d_loss: 1.3566 | g_loss: 0.8909\n",
      "Epoch [   52/  100] | d_loss: 1.3641 | g_loss: 1.0716\n",
      "Epoch [   52/  100] | d_loss: 1.2138 | g_loss: 1.2055\n",
      "Epoch [   52/  100] | d_loss: 1.3753 | g_loss: 0.9283\n",
      "Epoch [   53/  100] | d_loss: 1.2297 | g_loss: 1.1757\n",
      "Epoch [   53/  100] | d_loss: 1.2801 | g_loss: 0.9982\n",
      "Epoch [   53/  100] | d_loss: 1.2177 | g_loss: 0.9533\n",
      "Epoch [   54/  100] | d_loss: 1.3590 | g_loss: 0.8750\n",
      "Epoch [   54/  100] | d_loss: 1.2776 | g_loss: 1.3202\n",
      "Epoch [   54/  100] | d_loss: 1.4154 | g_loss: 0.9770\n",
      "Epoch [   55/  100] | d_loss: 1.3179 | g_loss: 1.1155\n",
      "Epoch [   55/  100] | d_loss: 1.3786 | g_loss: 0.9604\n",
      "Epoch [   55/  100] | d_loss: 1.3158 | g_loss: 0.9751\n",
      "Epoch [   56/  100] | d_loss: 1.3204 | g_loss: 0.9898\n",
      "Epoch [   56/  100] | d_loss: 1.4150 | g_loss: 1.0278\n",
      "Epoch [   56/  100] | d_loss: 1.2821 | g_loss: 0.9324\n",
      "Epoch [   57/  100] | d_loss: 1.2576 | g_loss: 1.2056\n",
      "Epoch [   57/  100] | d_loss: 1.4449 | g_loss: 1.1794\n",
      "Epoch [   57/  100] | d_loss: 1.3697 | g_loss: 1.1030\n",
      "Epoch [   58/  100] | d_loss: 1.2824 | g_loss: 0.9524\n",
      "Epoch [   58/  100] | d_loss: 1.2432 | g_loss: 1.1015\n",
      "Epoch [   58/  100] | d_loss: 1.3309 | g_loss: 1.0080\n",
      "Epoch [   59/  100] | d_loss: 1.3095 | g_loss: 1.0256\n",
      "Epoch [   59/  100] | d_loss: 1.2653 | g_loss: 0.8913\n",
      "Epoch [   59/  100] | d_loss: 1.3224 | g_loss: 1.0386\n",
      "Epoch [   60/  100] | d_loss: 1.1556 | g_loss: 1.1556\n",
      "Epoch [   60/  100] | d_loss: 1.2522 | g_loss: 1.0155\n",
      "Epoch [   60/  100] | d_loss: 1.3123 | g_loss: 0.9344\n",
      "Epoch [   61/  100] | d_loss: 1.2728 | g_loss: 1.1286\n",
      "Epoch [   61/  100] | d_loss: 1.3303 | g_loss: 1.0562\n",
      "Epoch [   61/  100] | d_loss: 1.3408 | g_loss: 0.8740\n",
      "Epoch [   62/  100] | d_loss: 1.4031 | g_loss: 1.0154\n",
      "Epoch [   62/  100] | d_loss: 1.1388 | g_loss: 1.3963\n",
      "Epoch [   62/  100] | d_loss: 1.4201 | g_loss: 1.1908\n",
      "Epoch [   63/  100] | d_loss: 1.2058 | g_loss: 1.1407\n",
      "Epoch [   63/  100] | d_loss: 1.2444 | g_loss: 1.1547\n",
      "Epoch [   63/  100] | d_loss: 1.3877 | g_loss: 1.0653\n",
      "Epoch [   64/  100] | d_loss: 1.3246 | g_loss: 1.4514\n",
      "Epoch [   64/  100] | d_loss: 1.3463 | g_loss: 1.0041\n",
      "Epoch [   64/  100] | d_loss: 1.2426 | g_loss: 1.5180\n",
      "Epoch [   65/  100] | d_loss: 1.3013 | g_loss: 1.0159\n",
      "Epoch [   65/  100] | d_loss: 1.3368 | g_loss: 2.1512\n",
      "Epoch [   65/  100] | d_loss: 1.3612 | g_loss: 0.9549\n",
      "Epoch [   66/  100] | d_loss: 1.3277 | g_loss: 0.7320\n",
      "Epoch [   66/  100] | d_loss: 1.2434 | g_loss: 0.9365\n",
      "Epoch [   66/  100] | d_loss: 1.2326 | g_loss: 1.3177\n",
      "Epoch [   67/  100] | d_loss: 1.2334 | g_loss: 1.4614\n",
      "Epoch [   67/  100] | d_loss: 1.2690 | g_loss: 1.0928\n",
      "Epoch [   67/  100] | d_loss: 1.3406 | g_loss: 1.0277\n",
      "Epoch [   68/  100] | d_loss: 1.2498 | g_loss: 1.0917\n",
      "Epoch [   68/  100] | d_loss: 1.3146 | g_loss: 1.0963\n",
      "Epoch [   68/  100] | d_loss: 1.3215 | g_loss: 1.3057\n",
      "Epoch [   69/  100] | d_loss: 1.3268 | g_loss: 1.1683\n",
      "Epoch [   69/  100] | d_loss: 1.2631 | g_loss: 0.9922\n",
      "Epoch [   69/  100] | d_loss: 1.3693 | g_loss: 1.0472\n",
      "Epoch [   70/  100] | d_loss: 1.3476 | g_loss: 1.1509\n",
      "Epoch [   70/  100] | d_loss: 1.2585 | g_loss: 1.2276\n",
      "Epoch [   70/  100] | d_loss: 1.3906 | g_loss: 1.2750\n",
      "Epoch [   71/  100] | d_loss: 1.2083 | g_loss: 0.9252\n",
      "Epoch [   71/  100] | d_loss: 1.3743 | g_loss: 1.1076\n",
      "Epoch [   71/  100] | d_loss: 1.2552 | g_loss: 0.9602\n",
      "Epoch [   72/  100] | d_loss: 1.3761 | g_loss: 0.9666\n",
      "Epoch [   72/  100] | d_loss: 1.3193 | g_loss: 0.9309\n",
      "Epoch [   72/  100] | d_loss: 1.3079 | g_loss: 1.2341\n",
      "Epoch [   73/  100] | d_loss: 1.4915 | g_loss: 1.0998\n",
      "Epoch [   73/  100] | d_loss: 1.2271 | g_loss: 1.0882\n",
      "Epoch [   73/  100] | d_loss: 1.2852 | g_loss: 1.0542\n",
      "Epoch [   74/  100] | d_loss: 1.2105 | g_loss: 1.0388\n",
      "Epoch [   74/  100] | d_loss: 1.2571 | g_loss: 1.2588\n",
      "Epoch [   74/  100] | d_loss: 1.3393 | g_loss: 1.0764\n",
      "Epoch [   75/  100] | d_loss: 1.2123 | g_loss: 1.2956\n",
      "Epoch [   75/  100] | d_loss: 1.2723 | g_loss: 0.9174\n",
      "Epoch [   75/  100] | d_loss: 1.4482 | g_loss: 1.0936\n",
      "Epoch [   76/  100] | d_loss: 1.3366 | g_loss: 1.0978\n",
      "Epoch [   76/  100] | d_loss: 1.2682 | g_loss: 1.2402\n",
      "Epoch [   76/  100] | d_loss: 1.2431 | g_loss: 0.9709\n",
      "Epoch [   77/  100] | d_loss: 1.3065 | g_loss: 0.9939\n",
      "Epoch [   77/  100] | d_loss: 1.1876 | g_loss: 1.3299\n",
      "Epoch [   77/  100] | d_loss: 1.2576 | g_loss: 1.1868\n",
      "Epoch [   78/  100] | d_loss: 1.2706 | g_loss: 1.0540\n",
      "Epoch [   78/  100] | d_loss: 1.2493 | g_loss: 0.9568\n",
      "Epoch [   78/  100] | d_loss: 1.2227 | g_loss: 1.1633\n",
      "Epoch [   79/  100] | d_loss: 1.3261 | g_loss: 0.9173\n",
      "Epoch [   79/  100] | d_loss: 1.2312 | g_loss: 1.1450\n",
      "Epoch [   79/  100] | d_loss: 1.3387 | g_loss: 1.2766\n",
      "Epoch [   80/  100] | d_loss: 1.2280 | g_loss: 1.1469\n",
      "Epoch [   80/  100] | d_loss: 1.2704 | g_loss: 1.1292\n",
      "Epoch [   80/  100] | d_loss: 1.3570 | g_loss: 0.9845\n",
      "Epoch [   81/  100] | d_loss: 1.2037 | g_loss: 1.1029\n",
      "Epoch [   81/  100] | d_loss: 1.1613 | g_loss: 1.3356\n",
      "Epoch [   81/  100] | d_loss: 1.3182 | g_loss: 1.0841\n",
      "Epoch [   82/  100] | d_loss: 1.2307 | g_loss: 1.0811\n",
      "Epoch [   82/  100] | d_loss: 1.2791 | g_loss: 0.8639\n",
      "Epoch [   82/  100] | d_loss: 1.3174 | g_loss: 1.3110\n",
      "Epoch [   83/  100] | d_loss: 1.3051 | g_loss: 0.9979\n",
      "Epoch [   83/  100] | d_loss: 1.1558 | g_loss: 1.2926\n",
      "Epoch [   83/  100] | d_loss: 1.2325 | g_loss: 1.0440\n",
      "Epoch [   84/  100] | d_loss: 1.2974 | g_loss: 1.1218\n",
      "Epoch [   84/  100] | d_loss: 1.2150 | g_loss: 1.0606\n",
      "Epoch [   84/  100] | d_loss: 1.4180 | g_loss: 1.1683\n",
      "Epoch [   85/  100] | d_loss: 1.3644 | g_loss: 1.2858\n",
      "Epoch [   85/  100] | d_loss: 1.2591 | g_loss: 0.9795\n",
      "Epoch [   85/  100] | d_loss: 1.1972 | g_loss: 0.9682\n",
      "Epoch [   86/  100] | d_loss: 1.4219 | g_loss: 0.8627\n",
      "Epoch [   86/  100] | d_loss: 1.1788 | g_loss: 1.4205\n",
      "Epoch [   86/  100] | d_loss: 1.3966 | g_loss: 0.9346\n",
      "Epoch [   87/  100] | d_loss: 1.2943 | g_loss: 0.9851\n",
      "Epoch [   87/  100] | d_loss: 1.2265 | g_loss: 1.0192\n",
      "Epoch [   87/  100] | d_loss: 1.2797 | g_loss: 1.3309\n",
      "Epoch [   88/  100] | d_loss: 1.2280 | g_loss: 1.0253\n",
      "Epoch [   88/  100] | d_loss: 1.2176 | g_loss: 1.2858\n",
      "Epoch [   88/  100] | d_loss: 1.3786 | g_loss: 1.3351\n",
      "Epoch [   89/  100] | d_loss: 1.3144 | g_loss: 1.1179\n",
      "Epoch [   89/  100] | d_loss: 1.2299 | g_loss: 1.0613\n",
      "Epoch [   89/  100] | d_loss: 1.3691 | g_loss: 1.0295\n",
      "Epoch [   90/  100] | d_loss: 1.3526 | g_loss: 1.0230\n",
      "Epoch [   90/  100] | d_loss: 1.2959 | g_loss: 1.1332\n",
      "Epoch [   90/  100] | d_loss: 1.2445 | g_loss: 1.5470\n",
      "Epoch [   91/  100] | d_loss: 1.3283 | g_loss: 1.0868\n",
      "Epoch [   91/  100] | d_loss: 1.2901 | g_loss: 1.2393\n",
      "Epoch [   91/  100] | d_loss: 1.4300 | g_loss: 1.1335\n",
      "Epoch [   92/  100] | d_loss: 1.2987 | g_loss: 1.3160\n",
      "Epoch [   92/  100] | d_loss: 1.2587 | g_loss: 1.0517\n",
      "Epoch [   92/  100] | d_loss: 1.2881 | g_loss: 1.1046\n",
      "Epoch [   93/  100] | d_loss: 1.2725 | g_loss: 1.1219\n",
      "Epoch [   93/  100] | d_loss: 1.3230 | g_loss: 0.9735\n",
      "Epoch [   93/  100] | d_loss: 1.3613 | g_loss: 0.9286\n",
      "Epoch [   94/  100] | d_loss: 1.3035 | g_loss: 1.0815\n",
      "Epoch [   94/  100] | d_loss: 1.2292 | g_loss: 1.0348\n",
      "Epoch [   94/  100] | d_loss: 1.3835 | g_loss: 1.0981\n",
      "Epoch [   95/  100] | d_loss: 1.2474 | g_loss: 1.1265\n",
      "Epoch [   95/  100] | d_loss: 1.2481 | g_loss: 1.0578\n",
      "Epoch [   95/  100] | d_loss: 1.3886 | g_loss: 0.8486\n",
      "Epoch [   96/  100] | d_loss: 1.2996 | g_loss: 0.9993\n",
      "Epoch [   96/  100] | d_loss: 1.2269 | g_loss: 0.9128\n",
      "Epoch [   96/  100] | d_loss: 1.3136 | g_loss: 1.0670\n",
      "Epoch [   97/  100] | d_loss: 1.3130 | g_loss: 0.9450\n",
      "Epoch [   97/  100] | d_loss: 1.2538 | g_loss: 1.3591\n",
      "Epoch [   97/  100] | d_loss: 1.2691 | g_loss: 0.9735\n",
      "Epoch [   98/  100] | d_loss: 1.2483 | g_loss: 0.9697\n",
      "Epoch [   98/  100] | d_loss: 1.1419 | g_loss: 1.9026\n",
      "Epoch [   98/  100] | d_loss: 1.3835 | g_loss: 1.0033\n",
      "Epoch [   99/  100] | d_loss: 1.2814 | g_loss: 0.9089\n",
      "Epoch [   99/  100] | d_loss: 1.2866 | g_loss: 1.1416\n",
      "Epoch [   99/  100] | d_loss: 1.5226 | g_loss: 1.1019\n",
      "Epoch [  100/  100] | d_loss: 1.3635 | g_loss: 1.1240\n",
      "Epoch [  100/  100] | d_loss: 1.3810 | g_loss: 0.9675\n",
      "Epoch [  100/  100] | d_loss: 1.3214 | g_loss: 0.9679\n"
     ]
    }
   ],
   "source": [
    "import pickle as pkl\n",
    "\n",
    "# training hyperparams\n",
    "num_epochs = 100\n",
    "\n",
    "# keep track of loss and generated, \"fake\" samples\n",
    "samples = []\n",
    "losses = []\n",
    "\n",
    "print_every = 400\n",
    "\n",
    "# Some fixed data for sampling; to inspect the model's performance\n",
    "sample_size=16\n",
    "fixed_z = np.random.uniform(-1, 1, size=(sample_size, z_size))\n",
    "fixed_z = torch.from_numpy(fixed_z).float()\n",
    "\n",
    "# train the network\n",
    "D.train()\n",
    "G.train()\n",
    "for epoch in range(num_epochs):\n",
    "    \n",
    "    for batch_i, (real_images, _) in enumerate(train_loader):\n",
    "                \n",
    "        batch_size = real_images.size(0)\n",
    "        \n",
    "        real_images = real_images*2 - 1  # rescale input images from [0,1) to [-1, 1)\n",
    "        \n",
    "        # Training the discriminator\n",
    "        \n",
    "        d_optimizer.zero_grad()\n",
    "        \n",
    "        # 1. Train with real images\n",
    "\n",
    "        # Compute the discriminator losses on real images\n",
    "        D_real = D(real_images)\n",
    "        d_real_loss = real_loss(D_real, smooth=True)\n",
    "        \n",
    "        # 2. Train with fake images\n",
    "        \n",
    "        # Generate fake images\n",
    "        with torch.no_grad():\n",
    "            z = np.random.uniform(-1, 1, size=(batch_size, z_size))\n",
    "            z = torch.from_numpy(z).float()\n",
    "            fake_images = G(z)\n",
    "        \n",
    "        # Compute the discriminator losses on fake images        \n",
    "        D_fake = D(fake_images)\n",
    "        d_fake_loss = fake_loss(D_fake)\n",
    "        \n",
    "        # add loss and perform backpropagation\n",
    "        d_loss = d_real_loss + d_fake_loss\n",
    "        d_loss.backward()\n",
    "        d_optimizer.step()\n",
    "        \n",
    "        \n",
    "        # Training the generator\n",
    "        g_optimizer.zero_grad()\n",
    "        \n",
    "        # 1. Train with fake images and flipped labels\n",
    "        \n",
    "        # Generate fake images\n",
    "        z = np.random.uniform(-1, 1, size=(batch_size, z_size))\n",
    "        z = torch.from_numpy(z).float()\n",
    "        fake_images = G(z)\n",
    "        \n",
    "        # Compute the discriminator losses on fake images \n",
    "        # using flipped labels!\n",
    "        D_fake = D(fake_images)\n",
    "        g_loss = real_loss(D_fake)\n",
    "        \n",
    "        # perform backpropagation\n",
    "        g_loss.backward()\n",
    "        g_optimizer.step()\n",
    "\n",
    "        # Print loss\n",
    "        if batch_i % print_every == 0:\n",
    "            print('Epoch [{:5d}/{:5d}] | d_loss: {:6.4f} | g_loss: {:6.4f}'.format(epoch+1, num_epochs, d_loss.item(), g_loss.item()))\n",
    "\n",
    "    \n",
    "    ## After each epoch\n",
    "    # 1. append discriminator loss and generator loss\n",
    "    losses.append((d_loss.item(), g_loss.item()))\n",
    "    \n",
    "    # 2. generate and save sample, fake images\n",
    "    G.eval() # eval mode for generating samples\n",
    "    samples_z = G(fixed_z)\n",
    "    samples.append(samples_z)\n",
    "    G.train() # back to train mode\n",
    "\n",
    "\n",
    "# Save training generator samples\n",
    "with open('train_samples.pkl', 'wb') as f:\n",
    "    pkl.dump(samples, f)"
   ]
  },
  {
   "cell_type": "markdown",
   "metadata": {},
   "source": [
    "## Training loss\n"
   ]
  },
  {
   "cell_type": "code",
   "execution_count": 11,
   "metadata": {},
   "outputs": [
    {
     "data": {
      "text/plain": [
       "<matplotlib.legend.Legend at 0x1179634e0>"
      ]
     },
     "execution_count": 11,
     "metadata": {},
     "output_type": "execute_result"
    },
    {
     "data": {
      "image/png": "[encoded data removed]",
      "text/plain": [
       "<Figure size 432x288 with 1 Axes>"
      ]
     },
     "metadata": {},
     "output_type": "display_data"
    }
   ],
   "source": [
    "fig, ax = plt.subplots()\n",
    "losses = np.array(losses)\n",
    "plt.plot(losses.T[0], label='Discriminator')\n",
    "plt.plot(losses.T[1], label='Generator')\n",
    "plt.title(\"Training Losses\")\n",
    "plt.legend()"
   ]
  },
  {
   "cell_type": "markdown",
   "metadata": {},
   "source": [
    "## Generator samples from training\n",
    "\n",
    "Samples of images (saved during training) from the generator."
   ]
  },
  {
   "cell_type": "code",
   "execution_count": 12,
   "metadata": {
    "collapsed": true
   },
   "outputs": [],
   "source": [
    "# helper function for viewing a list of passed in sample images\n",
    "def view_samples(epoch, samples):\n",
    "    fig, axes = plt.subplots(figsize=(7,7), nrows=4, ncols=4, sharey=True, sharex=True)\n",
    "    for ax, img in zip(axes.flatten(), samples[epoch]):\n",
    "        img = img.detach()\n",
    "        ax.xaxis.set_visible(False)\n",
    "        ax.yaxis.set_visible(False)\n",
    "        im = ax.imshow(img.reshape((28,28)), cmap='Greys_r')"
   ]
  },
  {
   "cell_type": "code",
   "execution_count": 13,
   "metadata": {
    "collapsed": true
   },
   "outputs": [],
   "source": [
    "# Load samples from generator, taken while training\n",
    "with open('train_samples.pkl', 'rb') as f:\n",
    "    samples = pkl.load(f)"
   ]
  },
  {
   "cell_type": "markdown",
   "metadata": {},
   "source": [
    "These are samples from the final training epoch. You can see the generator is able to reproduce numbers like 1, 7, 3, 2. Since this is just a sample, it isn't representative of the full range of images this generator can make."
   ]
  },
  {
   "cell_type": "code",
   "execution_count": 14,
   "metadata": {},
   "outputs": [
    {
     "data": {
      "image/png": "[encoded data removed]",
      "text/plain": [
       "<Figure size 504x504 with 16 Axes>"
      ]
     },
     "metadata": {},
     "output_type": "display_data"
    }
   ],
   "source": [
    "# -1 indicates final epoch's samples (the last in the list)\n",
    "view_samples(-1, samples)"
   ]
  },
  {
   "cell_type": "markdown",
   "metadata": {},
   "source": [
    "## Sampling from the generator\n",
    "\n",
    "Using the checkpoint saved after training, we obtain all samples."
   ]
  },
  {
   "cell_type": "code",
   "execution_count": 16,
   "metadata": {},
   "outputs": [
    {
     "data": {
      "image/png": "[encoded data removed]",
      "text/plain": [
       "<Figure size 504x504 with 16 Axes>"
      ]
     },
     "metadata": {},
     "output_type": "display_data"
    }
   ],
   "source": [
    "# randomly generated, new latent vectors\n",
    "sample_size=16\n",
    "rand_z = np.random.uniform(-1, 1, size=(sample_size, z_size))\n",
    "rand_z = torch.from_numpy(rand_z).float()\n",
    "\n",
    "G.eval() # eval mode\n",
    "# generated samples\n",
    "rand_images = G(rand_z)\n",
    "\n",
    "# 0 indicates the first set of samples in the passed in list\n",
    "# and we only have one batch of samples, here\n",
    "view_samples(0, [rand_images])"
   ]
  }
 ],
 "metadata": {
  "kernelspec": {
   "display_name": "Python 3",
   "language": "python",
   "name": "python3"
  },
  "language_info": {
   "codemirror_mode": {
    "name": "ipython",
    "version": 3
   },
   "file_extension": ".py",
   "mimetype": "text/x-python",
   "name": "python",
   "nbconvert_exporter": "python",
   "pygments_lexer": "ipython3",
   "version": "3.9.5"
  }
 },
 "nbformat": 4,
 "nbformat_minor": 2
}
