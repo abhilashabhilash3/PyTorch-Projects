{
 "cells": [
  {
   "cell_type": "markdown",
   "metadata": {},
   "source": [
    "# Multi-Layer Perceptron, MNIST\n",
    "---\n",
    "Train an MLP to classify images from the [MNIST database](http://yann.lecun.com/exdb/mnist/) hand-written digit database."
   ]
  },
  {
   "cell_type": "code",
   "execution_count": 1,
   "metadata": {},
   "outputs": [],
   "source": [
    "import torch\n",
    "import numpy as np"
   ]
  },
  {
   "cell_type": "markdown",
   "metadata": {},
   "source": [
    "---\n",
    "## Load and Visualize the [Data](http://pytorch.org/docs/stable/torchvision/datasets.html)\n"
   ]
  },
  {
   "cell_type": "code",
   "execution_count": 3,
   "metadata": {},
   "outputs": [],
   "source": [
    "from torchvision import datasets\n",
    "import torchvision.transforms as transforms\n",
    "from torch.utils.data.sampler import SubsetRandomSampler\n",
    "\n",
    "batch_size = 20\n",
    "# percentage of training set to use as validation\n",
    "valid_size = 0.2\n",
    "\n",
    "transform = transforms.ToTensor()\n",
    "\n",
    "# choose the training and test datasets\n",
    "train_data = datasets.MNIST(root='data', train=True, download=True, transform=transform)\n",
    "test_data = datasets.MNIST(root='data', train=False, download=True, transform=transform)\n",
    "\n",
    "# obtain training indices that will be used for validation\n",
    "num_train = len(train_data)\n",
    "indices = list(range(num_train))\n",
    "np.random.shuffle(indices)\n",
    "split = int(np.floor(valid_size * num_train))\n",
    "train_idx, valid_idx = indices[split:], indices[:split]\n",
    "\n",
    "# define samplers for obtaining training and validation batches\n",
    "train_sampler = SubsetRandomSampler(train_idx)\n",
    "valid_sampler = SubsetRandomSampler(valid_idx)\n",
    "\n",
    "# prepare data loaders\n",
    "train_loader = torch.utils.data.DataLoader(train_data, batch_size=batch_size, sampler=train_sampler)\n",
    "valid_loader = torch.utils.data.DataLoader(train_data, batch_size=batch_size, sampler=valid_sampler)\n",
    "test_loader = torch.utils.data.DataLoader(test_data, batch_size=batch_size)"
   ]
  },
  {
   "cell_type": "markdown",
   "metadata": {},
   "source": [
    "### Visualize a Batch of Training Data"
   ]
  },
  {
   "cell_type": "code",
   "execution_count": 4,
   "metadata": {},
   "outputs": [
    {
     "data": {
      "image/png": "[encoded data removed]",
      "text/plain": [
       "<matplotlib.figure.Figure at 0x7f4ec3d2b080>"
      ]
     },
     "metadata": {},
     "output_type": "display_data"
    }
   ],
   "source": [
    "import matplotlib.pyplot as plt\n",
    "%matplotlib inline\n",
    "    \n",
    "# obtain one batch of training images\n",
    "dataiter = iter(train_loader)\n",
    "images, labels = dataiter.next()\n",
    "images = images.numpy()\n",
    "\n",
    "# plot the images in the batch, along with the corresponding labels\n",
    "fig = plt.figure(figsize=(25, 4))\n",
    "for idx in np.arange(20):\n",
    "    ax = fig.add_subplot(2, 20/2, idx+1, xticks=[], yticks=[])\n",
    "    ax.imshow(np.squeeze(images[idx]), cmap='gray')\n",
    "    ax.set_title(str(labels[idx].item()))"
   ]
  },
  {
   "cell_type": "markdown",
   "metadata": {},
   "source": [
    "## Define the Network [Architecture](http://pytorch.org/docs/stable/nn.html)\n",
    "\n",
    "The architecture takes as input a 784-dim Tensor of pixel values for each image, and producing a Tensor of length 10 (number of classes) that indicates the class scores for an input image. Uses two hidden layers and dropout to avoid overfitting."
   ]
  },
  {
   "cell_type": "code",
   "execution_count": 6,
   "metadata": {},
   "outputs": [
    {
     "name": "stdout",
     "output_type": "stream",
     "text": [
      "Net(\n",
      "  (fc1): Linear(in_features=784, out_features=512, bias=True)\n",
      "  (fc2): Linear(in_features=512, out_features=512, bias=True)\n",
      "  (fc3): Linear(in_features=512, out_features=10, bias=True)\n",
      "  (dropout): Dropout(p=0.2)\n",
      ")\n"
     ]
    }
   ],
   "source": [
    "import torch.nn as nn\n",
    "import torch.nn.functional as F\n",
    "\n",
    "class Net(nn.Module):\n",
    "    def __init__(self):\n",
    "        super(Net, self).__init__()\n",
    "        # number of hidden nodes in each layer (512)\n",
    "        hidden_1 = 512\n",
    "        hidden_2 = 512\n",
    "        self.fc1 = nn.Linear(28 * 28, hidden_1)\n",
    "        self.fc2 = nn.Linear(hidden_1, hidden_2)\n",
    "        self.fc3 = nn.Linear(hidden_2, 10)\n",
    "        self.dropout = nn.Dropout(0.2)\n",
    "\n",
    "    def forward(self, x):\n",
    "        x = x.view(-1, 28 * 28)\n",
    "        x = F.relu(self.fc1(x))\n",
    "        x = self.dropout(x)\n",
    "        x = F.relu(self.fc2(x))\n",
    "        x = self.dropout(x)\n",
    "        x = self.fc3(x)\n",
    "        return x\n",
    "\n",
    "model = Net()\n",
    "print(model)"
   ]
  },
  {
   "cell_type": "markdown",
   "metadata": {},
   "source": [
    "###  [Loss Function](http://pytorch.org/docs/stable/nn.html#loss-functions) and [Optimizer](http://pytorch.org/docs/stable/optim.html)\n",
    "\n",
    "Using cross-entropy loss for classification."
   ]
  },
  {
   "cell_type": "code",
   "execution_count": 7,
   "metadata": {},
   "outputs": [],
   "source": [
    "# specify loss function (categorical cross-entropy)\n",
    "criterion = nn.CrossEntropyLoss()\n",
    "\n",
    "# specify optimizer (stochastic gradient descent) and learning rate = 0.01\n",
    "optimizer = torch.optim.SGD(model.parameters(), lr=0.01)"
   ]
  },
  {
   "cell_type": "markdown",
   "metadata": {},
   "source": [
    "---\n",
    "## Train the Network\n",
    "\n",
    "The steps for training/learning from a batch of data are described in the comments below:\n",
    "1. Clear the gradients of all optimized variables\n",
    "2. Forward pass: compute predicted outputs by passing inputs to the model\n",
    "3. Calculate the loss\n",
    "4. Backward pass: compute gradient of the loss with respect to model parameters\n",
    "5. Perform a single optimization step (parameter update)\n",
    "6. Update average training loss"
   ]
  },
  {
   "cell_type": "code",
   "execution_count": 8,
   "metadata": {},
   "outputs": [
    {
     "name": "stdout",
     "output_type": "stream",
     "text": [
      "Epoch: 1 \tTraining Loss: 0.753320 \tValidation Loss: 0.077026\n",
      "Validation loss decreased (inf --> 0.077026).  Saving model ...\n",
      "Epoch: 2 \tTraining Loss: 0.282486 \tValidation Loss: 0.059425\n",
      "Validation loss decreased (0.077026 --> 0.059425).  Saving model ...\n",
      "Epoch: 3 \tTraining Loss: 0.223825 \tValidation Loss: 0.048755\n",
      "Validation loss decreased (0.059425 --> 0.048755).  Saving model ...\n",
      "Epoch: 4 \tTraining Loss: 0.185427 \tValidation Loss: 0.041923\n",
      "Validation loss decreased (0.048755 --> 0.041923).  Saving model ...\n",
      "Epoch: 5 \tTraining Loss: 0.156857 \tValidation Loss: 0.035730\n",
      "Validation loss decreased (0.041923 --> 0.035730).  Saving model ...\n",
      "Epoch: 6 \tTraining Loss: 0.136490 \tValidation Loss: 0.032479\n",
      "Validation loss decreased (0.035730 --> 0.032479).  Saving model ...\n",
      "Epoch: 7 \tTraining Loss: 0.121144 \tValidation Loss: 0.029644\n",
      "Validation loss decreased (0.032479 --> 0.029644).  Saving model ...\n",
      "Epoch: 8 \tTraining Loss: 0.109397 \tValidation Loss: 0.026791\n",
      "Validation loss decreased (0.029644 --> 0.026791).  Saving model ...\n",
      "Epoch: 9 \tTraining Loss: 0.096450 \tValidation Loss: 0.024795\n",
      "Validation loss decreased (0.026791 --> 0.024795).  Saving model ...\n",
      "Epoch: 10 \tTraining Loss: 0.088351 \tValidation Loss: 0.023519\n",
      "Validation loss decreased (0.024795 --> 0.023519).  Saving model ...\n",
      "Epoch: 11 \tTraining Loss: 0.081291 \tValidation Loss: 0.021757\n",
      "Validation loss decreased (0.023519 --> 0.021757).  Saving model ...\n",
      "Epoch: 12 \tTraining Loss: 0.074204 \tValidation Loss: 0.020861\n",
      "Validation loss decreased (0.021757 --> 0.020861).  Saving model ...\n",
      "Epoch: 13 \tTraining Loss: 0.068794 \tValidation Loss: 0.019857\n",
      "Validation loss decreased (0.020861 --> 0.019857).  Saving model ...\n",
      "Epoch: 14 \tTraining Loss: 0.063714 \tValidation Loss: 0.018954\n",
      "Validation loss decreased (0.019857 --> 0.018954).  Saving model ...\n",
      "Epoch: 15 \tTraining Loss: 0.059194 \tValidation Loss: 0.018568\n",
      "Validation loss decreased (0.018954 --> 0.018568).  Saving model ...\n",
      "Epoch: 16 \tTraining Loss: 0.054714 \tValidation Loss: 0.017971\n",
      "Validation loss decreased (0.018568 --> 0.017971).  Saving model ...\n",
      "Epoch: 17 \tTraining Loss: 0.051826 \tValidation Loss: 0.018306\n",
      "Epoch: 18 \tTraining Loss: 0.049240 \tValidation Loss: 0.017168\n",
      "Validation loss decreased (0.017971 --> 0.017168).  Saving model ...\n",
      "Epoch: 19 \tTraining Loss: 0.046033 \tValidation Loss: 0.016182\n",
      "Validation loss decreased (0.017168 --> 0.016182).  Saving model ...\n",
      "Epoch: 20 \tTraining Loss: 0.043122 \tValidation Loss: 0.015927\n",
      "Validation loss decreased (0.016182 --> 0.015927).  Saving model ...\n",
      "Epoch: 21 \tTraining Loss: 0.040785 \tValidation Loss: 0.015801\n",
      "Validation loss decreased (0.015927 --> 0.015801).  Saving model ...\n",
      "Epoch: 22 \tTraining Loss: 0.037982 \tValidation Loss: 0.015498\n",
      "Validation loss decreased (0.015801 --> 0.015498).  Saving model ...\n",
      "Epoch: 23 \tTraining Loss: 0.036405 \tValidation Loss: 0.015437\n",
      "Validation loss decreased (0.015498 --> 0.015437).  Saving model ...\n",
      "Epoch: 24 \tTraining Loss: 0.033292 \tValidation Loss: 0.015217\n",
      "Validation loss decreased (0.015437 --> 0.015217).  Saving model ...\n",
      "Epoch: 25 \tTraining Loss: 0.032025 \tValidation Loss: 0.014667\n",
      "Validation loss decreased (0.015217 --> 0.014667).  Saving model ...\n",
      "Epoch: 26 \tTraining Loss: 0.030305 \tValidation Loss: 0.014710\n",
      "Epoch: 27 \tTraining Loss: 0.028624 \tValidation Loss: 0.014660\n",
      "Validation loss decreased (0.014667 --> 0.014660).  Saving model ...\n",
      "Epoch: 28 \tTraining Loss: 0.027184 \tValidation Loss: 0.014687\n",
      "Epoch: 29 \tTraining Loss: 0.025928 \tValidation Loss: 0.014665\n",
      "Epoch: 30 \tTraining Loss: 0.025115 \tValidation Loss: 0.014440\n",
      "Validation loss decreased (0.014660 --> 0.014440).  Saving model ...\n",
      "Epoch: 31 \tTraining Loss: 0.023628 \tValidation Loss: 0.013988\n",
      "Validation loss decreased (0.014440 --> 0.013988).  Saving model ...\n",
      "Epoch: 32 \tTraining Loss: 0.023227 \tValidation Loss: 0.014189\n",
      "Epoch: 33 \tTraining Loss: 0.021737 \tValidation Loss: 0.013854\n",
      "Validation loss decreased (0.013988 --> 0.013854).  Saving model ...\n",
      "Epoch: 34 \tTraining Loss: 0.020124 \tValidation Loss: 0.014215\n",
      "Epoch: 35 \tTraining Loss: 0.019775 \tValidation Loss: 0.013724\n",
      "Validation loss decreased (0.013854 --> 0.013724).  Saving model ...\n",
      "Epoch: 36 \tTraining Loss: 0.018185 \tValidation Loss: 0.013954\n",
      "Epoch: 37 \tTraining Loss: 0.017740 \tValidation Loss: 0.013884\n",
      "Epoch: 38 \tTraining Loss: 0.016794 \tValidation Loss: 0.014041\n",
      "Epoch: 39 \tTraining Loss: 0.016128 \tValidation Loss: 0.013853\n",
      "Epoch: 40 \tTraining Loss: 0.015983 \tValidation Loss: 0.013679\n",
      "Validation loss decreased (0.013724 --> 0.013679).  Saving model ...\n",
      "Epoch: 41 \tTraining Loss: 0.015297 \tValidation Loss: 0.014018\n",
      "Epoch: 42 \tTraining Loss: 0.014236 \tValidation Loss: 0.013854\n",
      "Epoch: 43 \tTraining Loss: 0.013563 \tValidation Loss: 0.014425\n",
      "Epoch: 44 \tTraining Loss: 0.013636 \tValidation Loss: 0.013782\n",
      "Epoch: 45 \tTraining Loss: 0.012579 \tValidation Loss: 0.013863\n",
      "Epoch: 46 \tTraining Loss: 0.012199 \tValidation Loss: 0.013543\n",
      "Validation loss decreased (0.013679 --> 0.013543).  Saving model ...\n",
      "Epoch: 47 \tTraining Loss: 0.011751 \tValidation Loss: 0.013556\n",
      "Epoch: 48 \tTraining Loss: 0.011472 \tValidation Loss: 0.013725\n",
      "Epoch: 49 \tTraining Loss: 0.010809 \tValidation Loss: 0.014055\n",
      "Epoch: 50 \tTraining Loss: 0.010845 \tValidation Loss: 0.013902\n"
     ]
    }
   ],
   "source": [
    "# number of epochs to train the model\n",
    "n_epochs = 50\n",
    "\n",
    "# initialize tracker for minimum validation loss\n",
    "valid_loss_min = np.Inf # set initial \"min\" to infinity\n",
    "\n",
    "for epoch in range(n_epochs):\n",
    "    train_loss = 0.0\n",
    "    valid_loss = 0.0\n",
    "    \n",
    "    # train the model\n",
    "    model.train()\n",
    "    for data, target in train_loader:\n",
    "        optimizer.zero_grad()\n",
    "        output = model(data)\n",
    "        loss = criterion(output, target)\n",
    "        loss.backward()\n",
    "        optimizer.step()\n",
    "        train_loss += loss.item()*data.size(0)\n",
    "        \n",
    "   \n",
    "    # validate the model \n",
    "    model.eval()\n",
    "    for data, target in valid_loader:\n",
    "        output = model(data)\n",
    "        loss = criterion(output, target)\n",
    "        valid_loss += loss.item()*data.size(0)\n",
    "        \n",
    "    # print training/validation statistics \n",
    "    train_loss = train_loss/len(train_loader.dataset)\n",
    "    valid_loss = valid_loss/len(valid_loader.dataset)\n",
    "    \n",
    "    print('Epoch: {} \\tTraining Loss: {:.6f} \\tValidation Loss: {:.6f}'.format(epoch+1, train_loss, valid_loss))\n",
    "    \n",
    "    # save model if validation loss has decreased\n",
    "    if valid_loss <= valid_loss_min:\n",
    "        print('Validation loss decreased ({:.6f} --> {:.6f}).  Saving model ...'.format(valid_loss_min, valid_loss))\n",
    "        torch.save(model.state_dict(), 'model.pt')\n",
    "        valid_loss_min = valid_loss"
   ]
  },
  {
   "cell_type": "markdown",
   "metadata": {},
   "source": [
    "###  Load the Model with the Lowest Validation Loss"
   ]
  },
  {
   "cell_type": "code",
   "execution_count": 9,
   "metadata": {},
   "outputs": [],
   "source": [
    "model.load_state_dict(torch.load('model.pt'))"
   ]
  },
  {
   "cell_type": "markdown",
   "metadata": {},
   "source": [
    "## Test the Network"
   ]
  },
  {
   "cell_type": "code",
   "execution_count": 10,
   "metadata": {},
   "outputs": [
    {
     "name": "stdout",
     "output_type": "stream",
     "text": [
      "Test Loss: 0.057290\n",
      "\n",
      "Test Accuracy of     0: 99% (972/980)\n",
      "Test Accuracy of     1: 99% (1126/1135)\n",
      "Test Accuracy of     2: 98% (1015/1032)\n",
      "Test Accuracy of     3: 98% (992/1010)\n",
      "Test Accuracy of     4: 98% (969/982)\n",
      "Test Accuracy of     5: 98% (875/892)\n",
      "Test Accuracy of     6: 98% (945/958)\n",
      "Test Accuracy of     7: 97% (1007/1028)\n",
      "Test Accuracy of     8: 97% (945/974)\n",
      "Test Accuracy of     9: 97% (985/1009)\n",
      "\n",
      "Test Accuracy (Overall): 98% (9831/10000)\n"
     ]
    }
   ],
   "source": [
    "# to monitor test loss and accuracy\n",
    "test_loss = 0.0\n",
    "class_correct = list(0. for i in range(10))\n",
    "class_total = list(0. for i in range(10))\n",
    "\n",
    "model.eval()\n",
    "\n",
    "for data, target in test_loader:\n",
    "    output = model(data)\n",
    "    loss = criterion(output, target)\n",
    "    test_loss += loss.item()*data.size(0)\n",
    "    _, pred = torch.max(output, 1)\n",
    "    correct = np.squeeze(pred.eq(target.data.view_as(pred)))\n",
    "    for i in range(batch_size):\n",
    "        label = target.data[i]\n",
    "        class_correct[label] += correct[i].item()\n",
    "        class_total[label] += 1\n",
    "\n",
    "# calculate and print avg test loss\n",
    "test_loss = test_loss/len(test_loader.dataset)\n",
    "print('Test Loss: {:.6f}\\n'.format(test_loss))\n",
    "\n",
    "for i in range(10):\n",
    "    if class_total[i] > 0:\n",
    "        print('Test Accuracy of %5s: %2d%% (%2d/%2d)' % (str(i), 100 * class_correct[i] / class_total[i], np.sum(class_correct[i]), np.sum(class_total[i])))\n",
    "    else:\n",
    "        print('Test Accuracy of %5s: N/A (no training examples)' % (classes[i]))\n",
    "\n",
    "print('\\nTest Accuracy (Overall): %2d%% (%2d/%2d)' % (100. * np.sum(class_correct) / np.sum(class_total), np.sum(class_correct), np.sum(class_total)))"
   ]
  },
  {
   "cell_type": "markdown",
   "metadata": {},
   "source": [
    "### Visualize Results\n",
    "\n",
    "The text is green for accurately classified examples and red for incorrect predictions."
   ]
  },
  {
   "cell_type": "code",
   "execution_count": 11,
   "metadata": {},
   "outputs": [
    {
     "data": {
      "image/png": "[encoded data removed]",
      "text/plain": [
       "<matplotlib.figure.Figure at 0x7f4e69189438>"
      ]
     },
     "metadata": {},
     "output_type": "display_data"
    }
   ],
   "source": [
    "# obtain one batch of test images\n",
    "dataiter = iter(test_loader)\n",
    "images, labels = dataiter.next()\n",
    "\n",
    "# get sample outputs\n",
    "output = model(images)\n",
    "# convert output probabilities to predicted class\n",
    "_, preds = torch.max(output, 1)\n",
    "\n",
    "images = images.numpy()\n",
    "\n",
    "# plot the images in the batch, along with predicted and true labels\n",
    "fig = plt.figure(figsize=(25, 4))\n",
    "for idx in np.arange(20):\n",
    "    ax = fig.add_subplot(2, 20/2, idx+1, xticks=[], yticks=[])\n",
    "    ax.imshow(np.squeeze(images[idx]), cmap='gray')\n",
    "    ax.set_title(\"{} ({})\".format(str(preds[idx].item()), str(labels[idx].item())),\n",
    "                 color=(\"green\" if preds[idx]==labels[idx] else \"red\"))"
   ]
  }
 ],
 "metadata": {
  "anaconda-cloud": {},
  "kernelspec": {
   "display_name": "Python 3",
   "language": "python",
   "name": "python3"
  },
  "language_info": {
   "codemirror_mode": {
    "name": "ipython",
    "version": 3
   },
   "file_extension": ".py",
   "mimetype": "text/x-python",
   "name": "python",
   "nbconvert_exporter": "python",
   "pygments_lexer": "ipython3",
   "version": "3.9.5"
  }
 },
 "nbformat": 4,
 "nbformat_minor": 2
}
